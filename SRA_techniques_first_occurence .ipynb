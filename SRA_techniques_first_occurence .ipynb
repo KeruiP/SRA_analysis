{
 "cells": [
  {
   "cell_type": "code",
   "execution_count": 22,
   "metadata": {},
   "outputs": [],
   "source": [
    "import pandas as pd\n",
    "import seaborn as sns\n",
    "import matplotlib.pyplot as plt"
   ]
  },
  {
   "cell_type": "code",
   "execution_count": 23,
   "metadata": {},
   "outputs": [],
   "source": [
    "df_sra=pd.read_csv('sra_complete_runs.csv',low_memory=False)"
   ]
  },
  {
   "cell_type": "code",
   "execution_count": 24,
   "metadata": {},
   "outputs": [],
   "source": [
    "df_sra['ReleaseDate'] = df_sra['ReleaseDate'].apply(lambda x : pd.to_datetime(str(x)))\n",
    "df_sra['year'] = df_sra['ReleaseDate'].dt.year"
   ]
  },
  {
   "cell_type": "code",
   "execution_count": 25,
   "metadata": {},
   "outputs": [
    {
     "name": "stdout",
     "output_type": "stream",
     "text": [
      "       year      LibraryStrategy  count\n",
      "0    2007.0                  WGS    234\n",
      "1    2008.0                  WGS   5043\n",
      "2    2008.0             ChIP-Seq    221\n",
      "3    2008.0                  WXS    158\n",
      "4    2008.0                  EST    124\n",
      "..      ...                  ...    ...\n",
      "315  2019.0            FAIRE-seq    146\n",
      "316  2019.0  Synthetic-Long-Read    141\n",
      "317  2019.0                 ChIP    105\n",
      "318  2019.0              MRE-Seq     66\n",
      "319  2019.0            FINISHING      3\n",
      "\n",
      "[320 rows x 3 columns]\n"
     ]
    }
   ],
   "source": [
    "df_sra_techniques = df_sra.groupby('year')['LibraryStrategy'].value_counts().reset_index(name='count')\n",
    "print(df_sra_techniques)"
   ]
  },
  {
   "cell_type": "code",
   "execution_count": 26,
   "metadata": {},
   "outputs": [
    {
     "name": "stdout",
     "output_type": "stream",
     "text": [
      "       year                          LibraryStrategy  count\n",
      "31   2009.0                         Targeted-Capture      1\n",
      "49   2010.0                                FINISHING      1\n",
      "13   2008.0                                    CLONE      2\n",
      "12   2008.0                                      WCS      3\n",
      "11   2008.0                                  RNA-Seq      3\n",
      "117  2013.0                                    SELEX      3\n",
      "148  2014.0                               VALIDATION      3\n",
      "116  2013.0                                  RIP-Seq      4\n",
      "146  2014.0                                 CLONEEND      5\n",
      "284  2018.0                                      CTS      5\n",
      "145  2014.0                                FAIRE-seq      6\n",
      "10   2008.0                                POOLCLONE      6\n",
      "48   2010.0                                MeDIP-Seq      8\n",
      "69   2011.0                                  MBD-Seq      8\n",
      "47   2010.0                                  MRE-Seq      8\n",
      "114  2013.0                                ncRNA-Seq     13\n",
      "144  2014.0                                    other     15\n",
      "181  2015.0                                     Hi-C     17\n",
      "143  2014.0                                 ChIA-PET     17\n",
      "280  2018.0  Tethered Chromatin Conformation Capture     26\n",
      "27   2009.0                                MNase-Seq     27\n",
      "178  2015.0                      Synthetic-Long-Read     27\n",
      "23   2009.0                                   Tn-Seq     48\n",
      "8    2008.0                                 AMPLICON     56\n",
      "209  2016.0                                      EST     76\n",
      "7    2008.0                                    OTHER     76\n",
      "89   2012.0                                      WGA     98\n",
      "317  2019.0                                     ChIP    105\n",
      "244  2017.0                                  FL-cDNA    107\n",
      "3    2008.0                                      WXS    158\n",
      "136  2014.0                   DNase-Hypersensitivity    168\n",
      "85   2012.0                                miRNA-Seq    204\n",
      "2    2008.0                                 ChIP-Seq    221\n",
      "0    2007.0                                      WGS    234\n",
      "40   2010.0                            Bisulfite-Seq    303\n",
      "131  2014.0                                  RAD-Seq    538\n",
      "193  2016.0                                 ATAC-seq   3463\n"
     ]
    }
   ],
   "source": [
    "df_sra_techniques_occur = df_sra_techniques.sort_values('count').drop_duplicates(subset='LibraryStrategy',keep='first')\n",
    "print (df_sra_techniques_occur)"
   ]
  }
 ],
 "metadata": {
  "kernelspec": {
   "display_name": "Python 3",
   "language": "python",
   "name": "python3"
  },
  "language_info": {
   "codemirror_mode": {
    "name": "ipython",
    "version": 3
   },
   "file_extension": ".py",
   "mimetype": "text/x-python",
   "name": "python",
   "nbconvert_exporter": "python",
   "pygments_lexer": "ipython3",
   "version": "3.7.4"
  }
 },
 "nbformat": 4,
 "nbformat_minor": 2
}
