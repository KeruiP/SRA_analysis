{
 "cells": [
  {
   "cell_type": "code",
   "execution_count": 1,
   "metadata": {},
   "outputs": [],
   "source": [
    "import pandas as pd\n",
    "import seaborn as sns\n",
    "import matplotlib.pyplot as plt"
   ]
  },
  {
   "cell_type": "code",
   "execution_count": 2,
   "metadata": {},
   "outputs": [],
   "source": [
    "df_sra=pd.read_csv('sra_complete_runs.csv',low_memory=False)"
   ]
  },
  {
   "cell_type": "code",
   "execution_count": 3,
   "metadata": {},
   "outputs": [],
   "source": [
    "df_sra['ReleaseDate'] = df_sra['ReleaseDate'].apply(lambda x : pd.to_datetime(str(x)))\n",
    "df_sra['year'] = df_sra['ReleaseDate'].dt.year"
   ]
  },
  {
   "cell_type": "code",
   "execution_count": 4,
   "metadata": {},
   "outputs": [
    {
     "name": "stdout",
     "output_type": "stream",
     "text": [
      "year    LibraryStrategy    \n",
      "2007.0  WGS                     234\n",
      "2008.0  WGS                    5043\n",
      "        ChIP-Seq                221\n",
      "        WXS                     158\n",
      "        EST                     124\n",
      "                               ... \n",
      "2019.0  FAIRE-seq               146\n",
      "        Synthetic-Long-Read     141\n",
      "        ChIP                    105\n",
      "        MRE-Seq                  66\n",
      "        FINISHING                 3\n",
      "Name: LibraryStrategy, Length: 320, dtype: int64\n"
     ]
    }
   ],
   "source": [
    "df_sra_techniques = df_sra.groupby('year')['LibraryStrategy'].value_counts()\n",
    "print(df_sra_techniques)"
   ]
  },
  {
   "cell_type": "code",
   "execution_count": 6,
   "metadata": {},
   "outputs": [
    {
     "name": "stdout",
     "output_type": "stream",
     "text": [
      "year\n",
      "2007.0          WGS\n",
      "2008.0          WXS\n",
      "2009.0          WXS\n",
      "2010.0          WXS\n",
      "2011.0          WXS\n",
      "2012.0    miRNA-Seq\n",
      "2013.0    ncRNA-Seq\n",
      "2014.0        other\n",
      "2015.0    ncRNA-Seq\n",
      "2016.0        other\n",
      "2017.0        other\n",
      "2018.0        other\n",
      "2019.0        other\n",
      "Name: LibraryStrategy, dtype: object\n"
     ]
    }
   ],
   "source": [
    "df_sra_techniques_max = df_sra.groupby(\"year\").max()[\"LibraryStrategy\"]\n",
    "print (df_sra_techniques_max)"
   ]
  },
  {
   "cell_type": "code",
   "execution_count": null,
   "metadata": {},
   "outputs": [],
   "source": []
  }
 ],
 "metadata": {
  "kernelspec": {
   "display_name": "Python 3",
   "language": "python",
   "name": "python3"
  },
  "language_info": {
   "codemirror_mode": {
    "name": "ipython",
    "version": 3
   },
   "file_extension": ".py",
   "mimetype": "text/x-python",
   "name": "python",
   "nbconvert_exporter": "python",
   "pygments_lexer": "ipython3",
   "version": "3.7.4"
  }
 },
 "nbformat": 4,
 "nbformat_minor": 2
}
