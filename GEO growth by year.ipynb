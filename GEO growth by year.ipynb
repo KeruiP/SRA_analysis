{
 "cells": [
  {
   "cell_type": "code",
   "execution_count": 1,
   "metadata": {},
   "outputs": [],
   "source": [
    "import pandas as pd\n",
    "import seaborn as sns\n",
    "import matplotlib.pyplot as plt"
   ]
  },
  {
   "cell_type": "code",
   "execution_count": 2,
   "metadata": {},
   "outputs": [
    {
     "data": {
      "text/html": [
       "<div>\n",
       "<style scoped>\n",
       "    .dataframe tbody tr th:only-of-type {\n",
       "        vertical-align: middle;\n",
       "    }\n",
       "\n",
       "    .dataframe tbody tr th {\n",
       "        vertical-align: top;\n",
       "    }\n",
       "\n",
       "    .dataframe thead th {\n",
       "        text-align: right;\n",
       "    }\n",
       "</style>\n",
       "<table border=\"1\" class=\"dataframe\">\n",
       "  <thead>\n",
       "    <tr style=\"text-align: right;\">\n",
       "      <th></th>\n",
       "      <th>Accession</th>\n",
       "      <th>Title</th>\n",
       "      <th>Sample Type</th>\n",
       "      <th>Taxonomy</th>\n",
       "      <th>Channels</th>\n",
       "      <th>Platform</th>\n",
       "      <th>Series</th>\n",
       "      <th>Supplementary Types</th>\n",
       "      <th>Supplementary Links</th>\n",
       "      <th>SRA Accession</th>\n",
       "      <th>Contact</th>\n",
       "      <th>Release Date</th>\n",
       "    </tr>\n",
       "  </thead>\n",
       "  <tbody>\n",
       "    <tr>\n",
       "      <td>0</td>\n",
       "      <td>GSM1</td>\n",
       "      <td>Foreskin Fibroblasts</td>\n",
       "      <td>SAGE</td>\n",
       "      <td>Homo sapiens</td>\n",
       "      <td>1</td>\n",
       "      <td>GPL4</td>\n",
       "      <td>GSE506</td>\n",
       "      <td>NaN</td>\n",
       "      <td>NaN</td>\n",
       "      <td>NaN</td>\n",
       "      <td>Marc Kenzelmann</td>\n",
       "      <td>Sep 28, 2000</td>\n",
       "    </tr>\n",
       "    <tr>\n",
       "      <td>1</td>\n",
       "      <td>GSM2</td>\n",
       "      <td>HCMV-infected foreskin fibroblasts</td>\n",
       "      <td>SAGE</td>\n",
       "      <td>Homo sapiens</td>\n",
       "      <td>1</td>\n",
       "      <td>GPL4</td>\n",
       "      <td>GSE506</td>\n",
       "      <td>NaN</td>\n",
       "      <td>NaN</td>\n",
       "      <td>NaN</td>\n",
       "      <td>Marc Kenzelmann</td>\n",
       "      <td>Sep 28, 2000</td>\n",
       "    </tr>\n",
       "    <tr>\n",
       "      <td>2</td>\n",
       "      <td>GSM3</td>\n",
       "      <td>testis a</td>\n",
       "      <td>RNA</td>\n",
       "      <td>Drosophila melanogaster</td>\n",
       "      <td>1</td>\n",
       "      <td>GPL5</td>\n",
       "      <td>GSE462</td>\n",
       "      <td>NaN</td>\n",
       "      <td>NaN</td>\n",
       "      <td>NaN</td>\n",
       "      <td>Brian Oliver</td>\n",
       "      <td>Oct 18, 2000</td>\n",
       "    </tr>\n",
       "    <tr>\n",
       "      <td>3</td>\n",
       "      <td>GSM4</td>\n",
       "      <td>testis b</td>\n",
       "      <td>RNA</td>\n",
       "      <td>Drosophila melanogaster</td>\n",
       "      <td>1</td>\n",
       "      <td>GPL5</td>\n",
       "      <td>GSE462</td>\n",
       "      <td>NaN</td>\n",
       "      <td>NaN</td>\n",
       "      <td>NaN</td>\n",
       "      <td>Brian Oliver</td>\n",
       "      <td>Oct 18, 2000</td>\n",
       "    </tr>\n",
       "    <tr>\n",
       "      <td>4</td>\n",
       "      <td>GSM5</td>\n",
       "      <td>male a</td>\n",
       "      <td>RNA</td>\n",
       "      <td>Drosophila melanogaster</td>\n",
       "      <td>1</td>\n",
       "      <td>GPL5</td>\n",
       "      <td>GSE462</td>\n",
       "      <td>NaN</td>\n",
       "      <td>NaN</td>\n",
       "      <td>NaN</td>\n",
       "      <td>Brian Oliver</td>\n",
       "      <td>Oct 18, 2000</td>\n",
       "    </tr>\n",
       "  </tbody>\n",
       "</table>\n",
       "</div>"
      ],
      "text/plain": [
       "  Accession                               Title Sample Type  \\\n",
       "0      GSM1                Foreskin Fibroblasts        SAGE   \n",
       "1      GSM2  HCMV-infected foreskin fibroblasts        SAGE   \n",
       "2      GSM3                            testis a         RNA   \n",
       "3      GSM4                            testis b         RNA   \n",
       "4      GSM5                              male a         RNA   \n",
       "\n",
       "                  Taxonomy  Channels Platform  Series Supplementary Types  \\\n",
       "0             Homo sapiens         1     GPL4  GSE506                 NaN   \n",
       "1             Homo sapiens         1     GPL4  GSE506                 NaN   \n",
       "2  Drosophila melanogaster         1     GPL5  GSE462                 NaN   \n",
       "3  Drosophila melanogaster         1     GPL5  GSE462                 NaN   \n",
       "4  Drosophila melanogaster         1     GPL5  GSE462                 NaN   \n",
       "\n",
       "  Supplementary Links SRA Accession          Contact  Release Date  \n",
       "0                 NaN           NaN  Marc Kenzelmann  Sep 28, 2000  \n",
       "1                 NaN           NaN  Marc Kenzelmann  Sep 28, 2000  \n",
       "2                 NaN           NaN     Brian Oliver  Oct 18, 2000  \n",
       "3                 NaN           NaN     Brian Oliver  Oct 18, 2000  \n",
       "4                 NaN           NaN     Brian Oliver  Oct 18, 2000  "
      ]
     },
     "execution_count": 2,
     "metadata": {},
     "output_type": "execute_result"
    }
   ],
   "source": [
    "df_geo=pd.read_csv('geo_sample_table.csv',low_memory=False)\n",
    "df_geo.head()"
   ]
  },
  {
   "cell_type": "code",
   "execution_count": 3,
   "metadata": {},
   "outputs": [],
   "source": [
    "#df_ = pd.DataFrame({'Order Date': [\"02-25-2013\"]})\n",
    "#df[\"Order Date\"] = pd.to_datetime(df[\"Order Date\"])\n",
    "#df[\"Order_Mt\"] = df[\"Order Date\"].dt.month\n",
    "#df[\"Order_yr\"] = df[\"Order Date\"].dt.year\n",
    "#print(df)"
   ]
  },
  {
   "cell_type": "code",
   "execution_count": 13,
   "metadata": {},
   "outputs": [],
   "source": [
    "#convert date format and year column\n",
    "df_geo['Release Date'] = pd.to_datetime(df_geo['Release Date'])\n",
    "df_geo['year'] = df_geo['Release Date'].dt.year"
   ]
  },
  {
   "cell_type": "code",
   "execution_count": 14,
   "metadata": {},
   "outputs": [
    {
     "name": "stdout",
     "output_type": "stream",
     "text": [
      "year\n",
      "2000        10\n",
      "2001       660\n",
      "2002      1975\n",
      "2003      7741\n",
      "2004     17872\n",
      "2005     35384\n",
      "2006     45778\n",
      "2007     77969\n",
      "2008     84901\n",
      "2009    111126\n",
      "2010    126126\n",
      "2011    163605\n",
      "2012    178775\n",
      "2013    202828\n",
      "2014    252056\n",
      "2015    265486\n",
      "2016    348017\n",
      "2017    393827\n",
      "2018    501720\n",
      "2019    423536\n",
      "Name: year, dtype: int64\n"
     ]
    }
   ],
   "source": [
    "#new samples by year\n",
    "df_geo_dates = df_geo.groupby('year').year.count()\n",
    "print(df_geo_dates)"
   ]
  },
  {
   "cell_type": "code",
   "execution_count": 15,
   "metadata": {},
   "outputs": [
    {
     "ename": "NameError",
     "evalue": "name 'cumulative_geo_samples_with_years' is not defined",
     "output_type": "error",
     "traceback": [
      "\u001b[0;31m---------------------------------------------------------------------------\u001b[0m",
      "\u001b[0;31mNameError\u001b[0m                                 Traceback (most recent call last)",
      "\u001b[0;32m<ipython-input-15-71633d10f950>\u001b[0m in \u001b[0;36m<module>\u001b[0;34m\u001b[0m\n\u001b[1;32m     11\u001b[0m \u001b[0mcumulative_geo_samples_with_year\u001b[0m \u001b[0;34m=\u001b[0m \u001b[0mpd\u001b[0m\u001b[0;34m.\u001b[0m\u001b[0mSeries\u001b[0m\u001b[0;34m(\u001b[0m\u001b[0mcumulative\u001b[0m\u001b[0;34m,\u001b[0m \u001b[0mindex\u001b[0m\u001b[0;34m=\u001b[0m\u001b[0mdates\u001b[0m\u001b[0;34m)\u001b[0m\u001b[0;34m\u001b[0m\u001b[0;34m\u001b[0m\u001b[0m\n\u001b[1;32m     12\u001b[0m \u001b[0;34m\u001b[0m\u001b[0m\n\u001b[0;32m---> 13\u001b[0;31m \u001b[0mprint\u001b[0m\u001b[0;34m(\u001b[0m\u001b[0mcumulative_geo_samples_with_years\u001b[0m\u001b[0;34m)\u001b[0m\u001b[0;34m\u001b[0m\u001b[0;34m\u001b[0m\u001b[0m\n\u001b[0m",
      "\u001b[0;31mNameError\u001b[0m: name 'cumulative_geo_samples_with_years' is not defined"
     ]
    }
   ],
   "source": [
    "cumulative = [0]\n",
    "dates = []\n",
    "counter = 0\n",
    "for index, value in df_geo_dates.items():\n",
    "    value = int(value) + cumulative[counter]\n",
    "    cumulative.append(value)\n",
    "    counter+=1\n",
    "    dates.append(index)\n",
    "cumulative = cumulative[1:]\n",
    "\n",
    "cumulative_geo_samples_with_year = pd.Series(cumulative, index=dates)\n",
    "\n",
    "print(cumulative_geo_samples_with_years)"
   ]
  },
  {
   "cell_type": "code",
   "execution_count": null,
   "metadata": {},
   "outputs": [],
   "source": []
  }
 ],
 "metadata": {
  "kernelspec": {
   "display_name": "Python 3",
   "language": "python",
   "name": "python3"
  },
  "language_info": {
   "codemirror_mode": {
    "name": "ipython",
    "version": 3
   },
   "file_extension": ".py",
   "mimetype": "text/x-python",
   "name": "python",
   "nbconvert_exporter": "python",
   "pygments_lexer": "ipython3",
   "version": "3.7.4"
  }
 },
 "nbformat": 4,
 "nbformat_minor": 2
}
